{
 "cells": [
  {
   "cell_type": "code",
   "execution_count": 1,
   "metadata": {},
   "outputs": [],
   "source": [
    "import torch\n",
    "from torch.autograd import Variable\n",
    "import torch.nn as nn\n",
    "import torch.functional as F\n",
    "import torch.optim as optim\n",
    "import torch.utils.data\n",
    "import pickle\n",
    "import numpy as np\n",
    "import pandas as pd\n",
    "import scipy.io as sio\n",
    "import time\n",
    "from torchvision import transforms, datasets\n",
    "from torch.utils.data import DataLoader, TensorDataset"
   ]
  },
  {
   "cell_type": "code",
   "execution_count": 3,
   "metadata": {},
   "outputs": [],
   "source": [
    "from keras import optimizers, Sequential\n",
    "from keras.layers import LSTM, Dropout\n",
    "from keras.layers import Dense\n",
    "from keras.layers import RepeatVector\n",
    "from keras.layers import TimeDistributed\n",
    "import tensorflow as tf\n",
    "from keras.callbacks import ModelCheckpoint, TensorBoard\n",
    "from keras import regularizers\n",
    "from sklearn.preprocessing import StandardScaler\n",
    "from sklearn.model_selection import train_test_split\n",
    "from sklearn.metrics import confusion_matrix, precision_recall_curve\n",
    "from sklearn.metrics import recall_score, classification_report, auc, roc_curve\n",
    "from sklearn.metrics import precision_recall_fscore_support, f1_score\n",
    "\n",
    "from numpy.random import seed\n",
    "seed(1)\n",
    "from tensorflow import set_random_seed\n",
    "set_random_seed(2)\n",
    "SEED = 123\n",
    "DATA_SPLIT_PCT = 0.2"
   ]
  },
  {
   "cell_type": "code",
   "execution_count": 4,
   "metadata": {},
   "outputs": [],
   "source": [
    "# Hyper Parameters\n",
    "N_EPOCHS = 70\n",
    "BATCH_SIZE = 64 # how to choose batch_size? too big\n",
    "LR = 1e-4 # learning rate\n",
    "HIDDEN_SIZE = 125\n",
    "INPUT_SIZE = 125\n",
    "OUTPUT_SIZE = 1\n",
    "NUM_LAYERS = 4\n",
    "WINDOW_SIZE = 128\n",
    "\n",
    "np.random.seed(123)"
   ]
  },
  {
   "cell_type": "markdown",
   "metadata": {},
   "source": [
    "## Data Input"
   ]
  },
  {
   "cell_type": "code",
   "execution_count": 5,
   "metadata": {},
   "outputs": [
    {
     "name": "stdout",
     "output_type": "stream",
     "text": [
      "Processing /Users/zouhao/Desktop/EEGResearch/Dataset/s01.mat ..........\n"
     ]
    }
   ],
   "source": [
    "dataset_file = \"/Users/zouhao/Desktop/EEGResearch/Dataset/s01.mat\"\n",
    "print(\"Processing\",dataset_file,\"..........\")\n",
    "data_file_in = sio.loadmat(dataset_file)\n",
    "data_in = data_file_in[\"data\"].transpose(0,2,1) #tuple # 40*40*8064\n",
    "window_size = WINDOW_SIZE\n",
    "# 0 valence, 1 arousal, 2 dominance, 3 liking\n",
    "label = 1\n",
    "label_in= data_file_in[\"labels\"][:,label]>5\n",
    "label_inter = np.empty([0])\n",
    "data_inter = np.empty([0, window_size, 32])\n",
    "trials = data_in.shape[0] # trials = 40"
   ]
  },
  {
   "cell_type": "code",
   "execution_count": 6,
   "metadata": {},
   "outputs": [],
   "source": [
    "# get the data and the label\n",
    "def windows(data, size):\n",
    "    start = 0\n",
    "    while((start+size) < data.shape[0]):\n",
    "        yield int(start), int(start + size)\n",
    "        start += size\n",
    "        \n",
    "def segment_signal(data,label,label_index,window_size):\n",
    "    for (start, end) in windows(data, window_size):\n",
    "        if((len(data[start:end]) == window_size)):\n",
    "            if(start == 0):\n",
    "                segments = data[start:end]\n",
    "                segments = np.vstack([segments, data[start:end]])\n",
    "                \n",
    "                labels = np.array(label[label_index])\n",
    "                labels = np.append(labels, np.array(label[label_index]))\n",
    "            else:\n",
    "                segments = np.vstack([segments, data[start:end]])\n",
    "                labels = np.append(labels, np.array(label[label_index]))\n",
    "    return segments, labels"
   ]
  },
  {
   "cell_type": "code",
   "execution_count": 7,
   "metadata": {},
   "outputs": [],
   "source": [
    "for trial in range(0, trials):\n",
    "    base_signal = (data_in[trial, 0:128, 0:32]+data_in[trial,128:256,0:32]+data_in[trial,256:384,0:32])/3\n",
    "    data = data_in[trial,384:8064,0:32]\n",
    "    # compute the deviation\n",
    "    for i in range(0, 60):\n",
    "        data[i*128:(i+1)*128,0:32]=data[i*128:(i+1)*128,0:32]-base_signal\n",
    "    label_index = trial\n",
    "    data, label = segment_signal(data,label_in,label_index,window_size)\n",
    "    # data reshape\n",
    "    data = data.reshape(int(data.shape[0]/window_size), window_size, 32) # features=32\n",
    "    # append new data and label\n",
    "    data_inter = np.vstack([data_inter, data])\n",
    "    label_inter = np.append(label_inter, label)"
   ]
  },
  {
   "cell_type": "code",
   "execution_count": 8,
   "metadata": {},
   "outputs": [],
   "source": [
    "# shuffle data\n",
    "index = np.array(range(0, len(label_inter)))\n",
    "np.random.shuffle(index)\n",
    "shuffled_data = data_inter[index]\n",
    "shuffled_label = label_inter[index]"
   ]
  },
  {
   "cell_type": "code",
   "execution_count": 9,
   "metadata": {},
   "outputs": [],
   "source": [
    "X = shuffled_data\n",
    "y = shuffled_label"
   ]
  },
  {
   "cell_type": "markdown",
   "metadata": {},
   "source": [
    "## Split Data"
   ]
  },
  {
   "cell_type": "code",
   "execution_count": 10,
   "metadata": {},
   "outputs": [],
   "source": [
    "X_train, X_valid = train_test_split(X, test_size=DATA_SPLIT_PCT, random_state=SEED)\n",
    "y_train, y_valid = train_test_split(y, test_size=DATA_SPLIT_PCT, random_state=SEED)"
   ]
  },
  {
   "cell_type": "markdown",
   "metadata": {},
   "source": [
    "## Standadize Data"
   ]
  },
  {
   "cell_type": "code",
   "execution_count": 11,
   "metadata": {},
   "outputs": [],
   "source": [
    "def flatten(X):\n",
    "    flattened_X = np.empty((X.shape[0], X.shape[2]))\n",
    "    for i in range(X.shape[0]):\n",
    "        flattened_X[i] = X[i, (X.shape[1]-1), :]\n",
    "    return(flattened_X)\n",
    "\n",
    "def scale(X, scaler):\n",
    "    for i in range(X.shape[0]):\n",
    "        X[i, :, :] = scaler.transform(X[i, :, :])\n",
    "    return X"
   ]
  },
  {
   "cell_type": "code",
   "execution_count": 12,
   "metadata": {},
   "outputs": [],
   "source": [
    "# Initialize a scaler using the training data.\n",
    "scaler = StandardScaler().fit(flatten(X_train))\n",
    "\n",
    "# scaler is the fitted transform object\n",
    "# use scale func to stanbdardize X_train\n",
    "X_train_scaled = scale(X_train, scaler)\n",
    "X_valid_scaled = scale(X_valid, scaler)"
   ]
  },
  {
   "cell_type": "markdown",
   "metadata": {},
   "source": [
    "## Define the Model"
   ]
  },
  {
   "cell_type": "code",
   "execution_count": 13,
   "metadata": {},
   "outputs": [],
   "source": [
    "samples = shuffled_data.shape[0] # 2400\n",
    "timesteps = shuffled_data.shape[1] # 128\n",
    "features = shuffled_data.shape[2] # 32"
   ]
  },
  {
   "cell_type": "code",
   "execution_count": 14,
   "metadata": {},
   "outputs": [
    {
     "name": "stdout",
     "output_type": "stream",
     "text": [
      "WARNING:tensorflow:From /usr/local/lib/python3.7/site-packages/keras/backend/tensorflow_backend.py:72: The name tf.get_default_graph is deprecated. Please use tf.compat.v1.get_default_graph instead.\n",
      "\n",
      "WARNING:tensorflow:From /usr/local/lib/python3.7/site-packages/keras/backend/tensorflow_backend.py:515: The name tf.placeholder is deprecated. Please use tf.compat.v1.placeholder instead.\n",
      "\n",
      "WARNING:tensorflow:From /usr/local/lib/python3.7/site-packages/keras/backend/tensorflow_backend.py:4048: The name tf.random_uniform is deprecated. Please use tf.random.uniform instead.\n",
      "\n",
      "WARNING:tensorflow:From /usr/local/lib/python3.7/site-packages/keras/backend/tensorflow_backend.py:131: The name tf.placeholder_with_default is deprecated. Please use tf.compat.v1.placeholder_with_default instead.\n",
      "\n",
      "WARNING:tensorflow:From /usr/local/lib/python3.7/site-packages/keras/backend/tensorflow_backend.py:3368: calling dropout (from tensorflow.python.ops.nn_ops) with keep_prob is deprecated and will be removed in a future version.\n",
      "Instructions for updating:\n",
      "Please use `rate` instead of `keep_prob`. Rate should be set to `rate = 1 - keep_prob`.\n",
      "WARNING:tensorflow:From /usr/local/lib/python3.7/site-packages/keras/optimizers.py:782: The name tf.train.Optimizer is deprecated. Please use tf.compat.v1.train.Optimizer instead.\n",
      "\n",
      "_________________________________________________________________\n",
      "Layer (type)                 Output Shape              Param #   \n",
      "=================================================================\n",
      "lstm_1 (LSTM)                (None, 128, 100)          53200     \n",
      "_________________________________________________________________\n",
      "dropout_1 (Dropout)          (None, 128, 100)          0         \n",
      "_________________________________________________________________\n",
      "lstm_2 (LSTM)                (None, 128, 80)           57920     \n",
      "_________________________________________________________________\n",
      "dropout_2 (Dropout)          (None, 128, 80)           0         \n",
      "_________________________________________________________________\n",
      "lstm_3 (LSTM)                (None, 128, 100)          72400     \n",
      "_________________________________________________________________\n",
      "dropout_3 (Dropout)          (None, 128, 100)          0         \n",
      "_________________________________________________________________\n",
      "lstm_4 (LSTM)                (None, 128, 32)           17024     \n",
      "_________________________________________________________________\n",
      "dropout_4 (Dropout)          (None, 128, 32)           0         \n",
      "_________________________________________________________________\n",
      "time_distributed_1 (TimeDist (None, 128, 32)           1056      \n",
      "_________________________________________________________________\n",
      "dropout_5 (Dropout)          (None, 128, 32)           0         \n",
      "=================================================================\n",
      "Total params: 201,600\n",
      "Trainable params: 201,600\n",
      "Non-trainable params: 0\n",
      "_________________________________________________________________\n"
     ]
    }
   ],
   "source": [
    "model = Sequential()\n",
    "# encoder\n",
    "model.add(LSTM(100, activation='tanh',\n",
    "               input_shape=(timesteps, features), return_sequences=True))\n",
    "model.add(Dropout(0.5))\n",
    "model.add(LSTM(80, activation='tanh', return_sequences=True))\n",
    "model.add(Dropout(0.5))\n",
    "# decoder\n",
    "model.add(LSTM(100, activation='tanh', return_sequences=True))\n",
    "model.add(Dropout(0.3))\n",
    "model.add(LSTM(32, activation='tanh', return_sequences=True))\n",
    "model.add(Dropout(0.3))\n",
    "model.add(TimeDistributed(Dense(features, activation='sigmoid'))) # two trials: with & without SHOULD have\n",
    "model.add(Dropout(0.1))\n",
    "model.compile(optimizer='adam', loss='mse')\n",
    "model.summary()"
   ]
  },
  {
   "cell_type": "code",
   "execution_count": 16,
   "metadata": {},
   "outputs": [
    {
     "name": "stdout",
     "output_type": "stream",
     "text": [
      "WARNING:tensorflow:From /usr/local/lib/python3.7/site-packages/tensorflow/python/ops/math_grad.py:1250: add_dispatch_support.<locals>.wrapper (from tensorflow.python.ops.array_ops) is deprecated and will be removed in a future version.\n",
      "Instructions for updating:\n",
      "Use tf.where in 2.0, which has the same broadcast rule as np.where\n",
      "WARNING:tensorflow:From /usr/local/lib/python3.7/site-packages/keras/backend/tensorflow_backend.py:984: The name tf.assign_add is deprecated. Please use tf.compat.v1.assign_add instead.\n",
      "\n",
      "Train on 1920 samples, validate on 480 samples\n",
      "Epoch 1/70\n",
      " - 22s - loss: 1.1819 - val_loss: 1.0965\n",
      "Epoch 2/70\n",
      " - 26s - loss: 1.0597 - val_loss: 1.0606\n",
      "Epoch 3/70\n",
      " - 20s - loss: 1.0335 - val_loss: 1.0520\n",
      "Epoch 4/70\n",
      " - 21s - loss: 1.0251 - val_loss: 1.0482\n",
      "Epoch 5/70\n",
      " - 23s - loss: 1.0209 - val_loss: 1.0459\n",
      "Epoch 6/70\n",
      " - 22s - loss: 1.0182 - val_loss: 1.0439\n",
      "Epoch 7/70\n",
      " - 22s - loss: 1.0161 - val_loss: 1.0419\n",
      "Epoch 8/70\n",
      " - 18s - loss: 1.0141 - val_loss: 1.0399\n",
      "Epoch 9/70\n",
      " - 19s - loss: 1.0120 - val_loss: 1.0375\n",
      "Epoch 10/70\n",
      " - 19s - loss: 1.0093 - val_loss: 1.0334\n",
      "Epoch 11/70\n",
      " - 18s - loss: 1.0044 - val_loss: 1.0260\n",
      "Epoch 12/70\n",
      " - 20s - loss: 0.9992 - val_loss: 1.0202\n",
      "Epoch 13/70\n",
      " - 18s - loss: 0.9951 - val_loss: 1.0162\n",
      "Epoch 14/70\n",
      " - 20s - loss: 0.9919 - val_loss: 1.0126\n",
      "Epoch 15/70\n",
      " - 25s - loss: 0.9889 - val_loss: 1.0094\n",
      "Epoch 16/70\n",
      " - 32s - loss: 0.9864 - val_loss: 1.0062\n",
      "Epoch 17/70\n",
      " - 21s - loss: 0.9837 - val_loss: 1.0028\n",
      "Epoch 18/70\n",
      " - 22s - loss: 0.9808 - val_loss: 0.9992\n",
      "Epoch 19/70\n",
      " - 25s - loss: 0.9782 - val_loss: 0.9959\n",
      "Epoch 20/70\n",
      " - 27s - loss: 0.9754 - val_loss: 0.9929\n",
      "Epoch 21/70\n",
      " - 21s - loss: 0.9728 - val_loss: 0.9891\n",
      "Epoch 22/70\n",
      " - 20s - loss: 0.9694 - val_loss: 0.9845\n",
      "Epoch 23/70\n",
      " - 18s - loss: 0.9653 - val_loss: 0.9792\n",
      "Epoch 24/70\n",
      " - 17s - loss: 0.9615 - val_loss: 0.9747\n",
      "Epoch 25/70\n",
      " - 18s - loss: 0.9575 - val_loss: 0.9698\n",
      "Epoch 26/70\n",
      " - 18s - loss: 0.9529 - val_loss: 0.9640\n",
      "Epoch 27/70\n",
      " - 17s - loss: 0.9487 - val_loss: 0.9591\n",
      "Epoch 28/70\n",
      " - 18s - loss: 0.9449 - val_loss: 0.9549\n",
      "Epoch 29/70\n",
      " - 18s - loss: 0.9419 - val_loss: 0.9514\n",
      "Epoch 30/70\n",
      " - 17s - loss: 0.9394 - val_loss: 0.9484\n",
      "Epoch 31/70\n",
      " - 18s - loss: 0.9369 - val_loss: 0.9456\n",
      "Epoch 32/70\n",
      " - 18s - loss: 0.9349 - val_loss: 0.9424\n",
      "Epoch 33/70\n",
      " - 18s - loss: 0.9310 - val_loss: 0.9345\n",
      "Epoch 34/70\n",
      " - 17s - loss: 0.9246 - val_loss: 0.9263\n",
      "Epoch 35/70\n",
      " - 17s - loss: 0.9184 - val_loss: 0.9186\n",
      "Epoch 36/70\n",
      " - 17s - loss: 0.9126 - val_loss: 0.9114\n",
      "Epoch 37/70\n",
      " - 17s - loss: 0.9075 - val_loss: 0.9044\n",
      "Epoch 38/70\n",
      " - 17s - loss: 0.9024 - val_loss: 0.8987\n",
      "Epoch 39/70\n",
      " - 17s - loss: 0.8967 - val_loss: 0.8884\n",
      "Epoch 40/70\n",
      " - 18s - loss: 0.8883 - val_loss: 0.8809\n",
      "Epoch 41/70\n",
      " - 17s - loss: 0.8832 - val_loss: 0.8757\n",
      "Epoch 42/70\n",
      " - 17s - loss: 0.8790 - val_loss: 0.8714\n",
      "Epoch 43/70\n",
      " - 17s - loss: 0.8759 - val_loss: 0.8678\n",
      "Epoch 44/70\n",
      " - 18s - loss: 0.8732 - val_loss: 0.8650\n",
      "Epoch 45/70\n",
      " - 17s - loss: 0.8710 - val_loss: 0.8623\n",
      "Epoch 46/70\n",
      " - 17s - loss: 0.8693 - val_loss: 0.8603\n",
      "Epoch 47/70\n",
      " - 17s - loss: 0.8673 - val_loss: 0.8582\n",
      "Epoch 48/70\n",
      " - 17s - loss: 0.8654 - val_loss: 0.8561\n",
      "Epoch 49/70\n",
      " - 18s - loss: 0.8641 - val_loss: 0.8544\n",
      "Epoch 50/70\n",
      " - 17s - loss: 0.8628 - val_loss: 0.8527\n",
      "Epoch 51/70\n",
      " - 18s - loss: 0.8617 - val_loss: 0.8512\n",
      "Epoch 52/70\n",
      " - 18s - loss: 0.8607 - val_loss: 0.8501\n",
      "Epoch 53/70\n",
      " - 18s - loss: 0.8595 - val_loss: 0.8488\n",
      "Epoch 54/70\n",
      " - 18s - loss: 0.8583 - val_loss: 0.8476\n",
      "Epoch 55/70\n",
      " - 18s - loss: 0.8577 - val_loss: 0.8458\n",
      "Epoch 56/70\n",
      " - 18s - loss: 0.8564 - val_loss: 0.8444\n",
      "Epoch 57/70\n",
      " - 18s - loss: 0.8549 - val_loss: 0.8430\n",
      "Epoch 58/70\n",
      " - 18s - loss: 0.8539 - val_loss: 0.8419\n",
      "Epoch 59/70\n",
      " - 18s - loss: 0.8527 - val_loss: 0.8407\n",
      "Epoch 60/70\n",
      " - 18s - loss: 0.8512 - val_loss: 0.8383\n",
      "Epoch 61/70\n",
      " - 18s - loss: 0.8494 - val_loss: 0.8359\n",
      "Epoch 62/70\n",
      " - 17s - loss: 0.8478 - val_loss: 0.8343\n",
      "Epoch 63/70\n",
      " - 17s - loss: 0.8468 - val_loss: 0.8327\n",
      "Epoch 64/70\n",
      " - 18s - loss: 0.8451 - val_loss: 0.8301\n",
      "Epoch 65/70\n",
      " - 18s - loss: 0.8432 - val_loss: 0.8281\n",
      "Epoch 66/70\n",
      " - 18s - loss: 0.8419 - val_loss: 0.8258\n",
      "Epoch 67/70\n",
      " - 18s - loss: 0.8383 - val_loss: 0.8195\n",
      "Epoch 68/70\n",
      " - 18s - loss: 0.8347 - val_loss: 0.8153\n",
      "Epoch 69/70\n",
      " - 18s - loss: 0.8325 - val_loss: 0.8131\n",
      "Epoch 70/70\n",
      " - 18s - loss: 0.8309 - val_loss: 0.8115\n"
     ]
    },
    {
     "ename": "TypeError",
     "evalue": "'tuple' object is not callable",
     "output_type": "error",
     "traceback": [
      "\u001b[0;31m---------------------------------------------------------------------------\u001b[0m",
      "\u001b[0;31mTypeError\u001b[0m                                 Traceback (most recent call last)",
      "\u001b[0;32m<ipython-input-16-d771942c33d5>\u001b[0m in \u001b[0;36m<module>\u001b[0;34m\u001b[0m\n\u001b[1;32m     16\u001b[0m                                                 verbose=2).history\n\u001b[1;32m     17\u001b[0m \u001b[0mchange\u001b[0m \u001b[0;34m=\u001b[0m \u001b[0mmodel\u001b[0m\u001b[0;34m.\u001b[0m\u001b[0mpredict\u001b[0m\u001b[0;34m(\u001b[0m\u001b[0mX_train_scaled\u001b[0m\u001b[0;34m)\u001b[0m\u001b[0;34m\u001b[0m\u001b[0m\n\u001b[0;32m---> 18\u001b[0;31m \u001b[0mchange_of_shape\u001b[0m \u001b[0;34m=\u001b[0m \u001b[0mchange\u001b[0m\u001b[0;34m.\u001b[0m\u001b[0mshape\u001b[0m\u001b[0;34m(\u001b[0m\u001b[0;34m)\u001b[0m\u001b[0;34m\u001b[0m\u001b[0m\n\u001b[0m\u001b[1;32m     19\u001b[0m \u001b[0mprint\u001b[0m\u001b[0;34m(\u001b[0m\u001b[0mchange_of_shape\u001b[0m\u001b[0;34m)\u001b[0m\u001b[0;34m\u001b[0m\u001b[0m\n",
      "\u001b[0;31mTypeError\u001b[0m: 'tuple' object is not callable"
     ]
    }
   ],
   "source": [
    "# train the autoencoder\n",
    "adam = optimizers.Adam(LR)\n",
    "# model.compile(metrics=['accuracy'], loss='mse', optimizer=adam)\n",
    "\n",
    "cp = ModelCheckpoint(filepath=\"/Users/zouhao/Desktop/EEGResearch/lstm_autoencoder_classifier.h5\",\n",
    "                               save_best_only=True,\n",
    "                               verbose=0)\n",
    "tb = TensorBoard(log_dir='/Users/zouhao/Desktop/EEGResearch/logs',\n",
    "                histogram_freq=0,\n",
    "                write_graph=True,\n",
    "                write_images=True)\n",
    "history = model.fit(X_train, X_train, \n",
    "                                                epochs=N_EPOCHS, \n",
    "                                                batch_size=BATCH_SIZE, \n",
    "                                                validation_data=(X_valid, X_valid),\n",
    "                                                verbose=2).history\n",
    "change = model.predict(X_train_scaled)\n",
    "print(change.shape)"
   ]
  },
  {
   "cell_type": "code",
   "execution_count": 18,
   "metadata": {},
   "outputs": [
    {
     "data": {
      "text/plain": [
       "(1920, 128, 32)"
      ]
     },
     "execution_count": 18,
     "metadata": {},
     "output_type": "execute_result"
    }
   ],
   "source": [
    "change.shape"
   ]
  },
  {
   "cell_type": "code",
   "execution_count": 58,
   "metadata": {},
   "outputs": [
    {
     "data": {
      "image/png": "[encoded data removed]",
      "text/plain": [
       "<Figure size 432x288 with 1 Axes>"
      ]
     },
     "metadata": {
      "needs_background": "light"
     },
     "output_type": "display_data"
    }
   ],
   "source": [
    "%matplotlib inline\n",
    "import matplotlib.pyplot as plt\n",
    "\n",
    "plt.plot(history['loss'], linewidth=2, label='Train')\n",
    "plt.plot(history['val_loss'], linewidth=2, label='Valid')\n",
    "plt.legend(loc='upper right')\n",
    "plt.title('Model loss')\n",
    "plt.ylabel('Loss')\n",
    "plt.xlabel('Epoch')\n",
    "plt.show()"
   ]
  },
  {
   "cell_type": "code",
   "execution_count": 17,
   "metadata": {},
   "outputs": [],
   "source": [
    "LR = 1e-2"
   ]
  },
  {
   "cell_type": "code",
   "execution_count": 18,
   "metadata": {},
   "outputs": [
    {
     "name": "stdout",
     "output_type": "stream",
     "text": [
      "Train on 1920 samples, validate on 480 samples\n",
      "Epoch 1/70\n",
      " - 19s - loss: 1.0245 - val_loss: 1.0479\n",
      "Epoch 2/70\n",
      " - 19s - loss: 1.0205 - val_loss: 1.0455\n",
      "Epoch 3/70\n",
      " - 19s - loss: 1.0179 - val_loss: 1.0437\n",
      "Epoch 4/70\n",
      " - 22s - loss: 1.0158 - val_loss: 1.0416\n",
      "Epoch 5/70\n",
      " - 20s - loss: 1.0139 - val_loss: 1.0395\n",
      "Epoch 6/70\n",
      " - 22s - loss: 1.0118 - val_loss: 1.0372\n",
      "Epoch 7/70\n",
      " - 25s - loss: 1.0091 - val_loss: 1.0330\n",
      "Epoch 8/70\n",
      " - 20s - loss: 1.0043 - val_loss: 1.0257\n",
      "Epoch 9/70\n",
      " - 19s - loss: 0.9989 - val_loss: 1.0201\n",
      "Epoch 10/70\n",
      " - 20s - loss: 0.9950 - val_loss: 1.0159\n",
      "Epoch 11/70\n",
      " - 20s - loss: 0.9917 - val_loss: 1.0124\n",
      "Epoch 12/70\n",
      " - 20s - loss: 0.9889 - val_loss: 1.0092\n",
      "Epoch 13/70\n",
      " - 21s - loss: 0.9862 - val_loss: 1.0057\n",
      "Epoch 14/70\n",
      " - 23s - loss: 0.9831 - val_loss: 1.0018\n",
      "Epoch 15/70\n",
      " - 21s - loss: 0.9800 - val_loss: 0.9977\n",
      "Epoch 16/70\n",
      " - 21s - loss: 0.9773 - val_loss: 0.9941\n",
      "Epoch 17/70\n",
      " - 20s - loss: 0.9742 - val_loss: 0.9901\n",
      "Epoch 18/70\n",
      " - 20s - loss: 0.9709 - val_loss: 0.9856\n",
      "Epoch 19/70\n",
      " - 27s - loss: 0.9670 - val_loss: 0.9807\n",
      "Epoch 20/70\n",
      " - 21s - loss: 0.9627 - val_loss: 0.9751\n",
      "Epoch 21/70\n",
      " - 20s - loss: 0.9580 - val_loss: 0.9697\n",
      "Epoch 22/70\n",
      " - 20s - loss: 0.9531 - val_loss: 0.9634\n",
      "Epoch 23/70\n",
      " - 21s - loss: 0.9484 - val_loss: 0.9581\n",
      "Epoch 24/70\n",
      " - 20s - loss: 0.9433 - val_loss: 0.9497\n",
      "Epoch 25/70\n",
      " - 19s - loss: 0.9358 - val_loss: 0.9392\n",
      "Epoch 26/70\n",
      " - 20s - loss: 0.9277 - val_loss: 0.9292\n",
      "Epoch 27/70\n",
      " - 21s - loss: 0.9202 - val_loss: 0.9205\n",
      "Epoch 28/70\n",
      " - 20s - loss: 0.9131 - val_loss: 0.9111\n",
      "Epoch 29/70\n",
      " - 22s - loss: 0.9060 - val_loss: 0.9028\n",
      "Epoch 30/70\n",
      " - 20s - loss: 0.9002 - val_loss: 0.8961\n",
      "Epoch 31/70\n",
      " - 22s - loss: 0.8950 - val_loss: 0.8903\n",
      "Epoch 32/70\n",
      " - 22s - loss: 0.8903 - val_loss: 0.8855\n",
      "Epoch 33/70\n",
      " - 22s - loss: 0.8871 - val_loss: 0.8816\n",
      "Epoch 34/70\n",
      " - 20s - loss: 0.8836 - val_loss: 0.8775\n",
      "Epoch 35/70\n",
      " - 20s - loss: 0.8807 - val_loss: 0.8737\n",
      "Epoch 36/70\n",
      " - 24s - loss: 0.8779 - val_loss: 0.8698\n",
      "Epoch 37/70\n",
      " - 25s - loss: 0.8751 - val_loss: 0.8668\n",
      "Epoch 38/70\n",
      " - 19s - loss: 0.8728 - val_loss: 0.8636\n",
      "Epoch 39/70\n",
      " - 18s - loss: 0.8705 - val_loss: 0.8609\n",
      "Epoch 40/70\n",
      " - 22s - loss: 0.8682 - val_loss: 0.8580\n",
      "Epoch 41/70\n",
      " - 24s - loss: 0.8658 - val_loss: 0.8549\n",
      "Epoch 42/70\n",
      " - 19s - loss: 0.8637 - val_loss: 0.8525\n",
      "Epoch 43/70\n",
      " - 25s - loss: 0.8619 - val_loss: 0.8505\n",
      "Epoch 44/70\n",
      " - 25s - loss: 0.8605 - val_loss: 0.8487\n",
      "Epoch 45/70\n",
      " - 25s - loss: 0.8586 - val_loss: 0.8467\n",
      "Epoch 46/70\n",
      " - 23s - loss: 0.8576 - val_loss: 0.8456\n",
      "Epoch 47/70\n",
      " - 23s - loss: 0.8564 - val_loss: 0.8442\n",
      "Epoch 48/70\n",
      " - 24s - loss: 0.8552 - val_loss: 0.8427\n",
      "Epoch 49/70\n",
      " - 21s - loss: 0.8541 - val_loss: 0.8415\n",
      "Epoch 50/70\n",
      " - 21s - loss: 0.8532 - val_loss: 0.8398\n",
      "Epoch 51/70\n",
      " - 19s - loss: 0.8526 - val_loss: 0.8395\n",
      "Epoch 52/70\n",
      " - 19s - loss: 0.8515 - val_loss: 0.8382\n",
      "Epoch 53/70\n",
      " - 18s - loss: 0.8508 - val_loss: 0.8372\n",
      "Epoch 54/70\n",
      " - 18s - loss: 0.8499 - val_loss: 0.8360\n",
      "Epoch 55/70\n",
      " - 18s - loss: 0.8492 - val_loss: 0.8348\n",
      "Epoch 56/70\n",
      " - 22s - loss: 0.8479 - val_loss: 0.8337\n",
      "Epoch 57/70\n",
      " - 23s - loss: 0.8470 - val_loss: 0.8323\n",
      "Epoch 58/70\n",
      " - 21s - loss: 0.8458 - val_loss: 0.8310\n",
      "Epoch 59/70\n",
      " - 22s - loss: 0.8446 - val_loss: 0.8295\n",
      "Epoch 60/70\n",
      " - 20s - loss: 0.8434 - val_loss: 0.8279\n",
      "Epoch 61/70\n",
      " - 22s - loss: 0.8424 - val_loss: 0.8266\n",
      "Epoch 62/70\n",
      " - 22s - loss: 0.8417 - val_loss: 0.8258\n",
      "Epoch 63/70\n",
      " - 22s - loss: 0.8408 - val_loss: 0.8248\n",
      "Epoch 64/70\n",
      " - 25s - loss: 0.8402 - val_loss: 0.8239\n",
      "Epoch 65/70\n",
      " - 20s - loss: 0.8395 - val_loss: 0.8227\n",
      "Epoch 66/70\n",
      " - 20s - loss: 0.8384 - val_loss: 0.8214\n",
      "Epoch 67/70\n",
      " - 23s - loss: 0.8365 - val_loss: 0.8184\n",
      "Epoch 68/70\n",
      " - 22s - loss: 0.8351 - val_loss: 0.8169\n",
      "Epoch 69/70\n",
      " - 23s - loss: 0.8334 - val_loss: 0.8147\n",
      "Epoch 70/70\n",
      " - 22s - loss: 0.8311 - val_loss: 0.8113\n",
      "(1920, 128, 32)\n"
     ]
    }
   ],
   "source": [
    "# train the autoencoder\n",
    "adam = optimizers.Adam(LR)\n",
    "# model.compile(metrics=['accuracy'], loss='mse', optimizer=adam)\n",
    "\n",
    "cp = ModelCheckpoint(filepath=\"/Users/zouhao/Desktop/EEGResearch/lstm_autoencoder_classifier.h5\",\n",
    "                               save_best_only=True,\n",
    "                               verbose=0)\n",
    "tb = TensorBoard(log_dir='/Users/zouhao/Desktop/EEGResearch/logs',\n",
    "                histogram_freq=0,\n",
    "                write_graph=True,\n",
    "                write_images=True)\n",
    "history = model.fit(X_train, X_train, \n",
    "                                                epochs=N_EPOCHS, \n",
    "                                                batch_size=BATCH_SIZE, \n",
    "                                                validation_data=(X_valid, X_valid),\n",
    "                                                verbose=2).history\n",
    "change = model.predict(X_train_scaled)\n",
    "print(change.shape)"
   ]
  },
  {
   "cell_type": "code",
   "execution_count": 20,
   "metadata": {},
   "outputs": [
    {
     "data": {
      "image/png": "[encoded data removed]",
      "text/plain": [
       "<Figure size 432x288 with 1 Axes>"
      ]
     },
     "metadata": {
      "needs_background": "light"
     },
     "output_type": "display_data"
    }
   ],
   "source": [
    "plt.plot(history['loss'], linewidth=2, label='Train')\n",
    "plt.plot(history['val_loss'], linewidth=2, label='Valid')\n",
    "plt.legend(loc='upper right')\n",
    "plt.title('Model loss')\n",
    "plt.ylabel('Loss')\n",
    "plt.xlabel('Epoch')\n",
    "plt.show()"
   ]
  },
  {
   "cell_type": "markdown",
   "metadata": {},
   "source": [
    "## Redefine the model in PyTorch"
   ]
  },
  {
   "cell_type": "code",
   "execution_count": 21,
   "metadata": {},
   "outputs": [],
   "source": [
    "# create tensor and variable\n",
    "featuresTrain = torch.from_numpy(X_train_scaled)\n",
    "targetsTrain = torch.from_numpy(y_train).type(torch.LongTensor)\n",
    "\n",
    "featuresValid = torch.from_numpy(X_valid_scaled)\n",
    "targetsValid = torch.from_numpy(y_valid).type(torch.LongTensor)\n",
    "\n",
    "train = TensorDataset(featuresTrain,targetsTrain)\n",
    "valid = TensorDataset(featuresValid,targetsValid)"
   ]
  },
  {
   "cell_type": "code",
   "execution_count": 24,
   "metadata": {},
   "outputs": [],
   "source": [
    "# data loader\n",
    "train_loader = DataLoader(train, batch_size = BATCH_SIZE, shuffle = True)\n",
    "valid_loader = DataLoader(valid, batch_size = BATCH_SIZE, shuffle = True)"
   ]
  },
  {
   "cell_type": "code",
   "execution_count": 88,
   "metadata": {},
   "outputs": [],
   "source": [
    "class EncoderRNN(nn.Module):\n",
    "    def __init__(self, input_size, hidden_size, num_layers, bidirectional):\n",
    "        super(EncoderRNN, self).__init__()\n",
    "        self.input_size = input_size\n",
    "        self.hidden_size = hidden_size\n",
    "        self.num_layers = num_layers\n",
    "        self.lstm = nn.LSTM(input_size, hidden_size, num_layers, batch_first=True,\n",
    "                           dropout=0.5, bidirectional=bidirectional)\n",
    "        self.relu = nn.ReLU(inplace=True)\n",
    "        \n",
    "    def forward(self, x):\n",
    "        encoded_input, hidden = self.lstm(x)  \n",
    "        encoded_input = self.relu(encoded_input)\n",
    "        return encoded_input\n",
    "    \n",
    "class DecoderRNN(nn.Module):\n",
    "    def __init__(self, hidden_size, input_size, num_layers, bidirectional):\n",
    "        super(DecoderRNN, self).__init__()\n",
    "        self.hidden_size = hidden_size\n",
    "        self.input_size = input_size\n",
    "        self.num_layers = num_layers\n",
    "        self.lstm = nn.LSTM(hidden_size, input_size, num_layers, batch_first=True,\n",
    "                            dropout=0.5, bidirectional=bidirectional)\n",
    "        self.sigmoid = nn.Sigmoid()\n",
    "        \n",
    "    def forward(self, encoded_input):\n",
    "        decoded_output, hidden = self.lstm(encoded_input)  \n",
    "        decoded_output = self.sigmoid(decoded_output)\n",
    "        return decoded_output\n",
    "    \n",
    "class AutoEncoderRNN(nn.Module):\n",
    "    def __init__(self, input_size, hidden_size, num_layers, bidirectional=True):\n",
    "        super(AutoEncoderRNN, self).__init__()\n",
    "        self.encoder = EncoderRNN(input_size, hidden_size, num_layers, bidirectional)\n",
    "        self.decoder = DecoderRNN(hidden_size, input_size, num_layers, bidirectional)\n",
    "\n",
    "    def forward(self, x):\n",
    "        encoded_input = self.encoder(x)\n",
    "        decoded_output = self.decoder(encoded_input)\n",
    "        return decoded_output"
   ]
  },
  {
   "cell_type": "code",
   "execution_count": 89,
   "metadata": {},
   "outputs": [],
   "source": [
    "model = AutoEncoderRNN(input_size=INPUT_SIZE, \n",
    "                       hidden_size=HIDDEN_SIZE, \n",
    "                       num_layers=NUM_LAYERS, \n",
    "                       bidirectional=True)\n",
    "crit = nn.CrossEntropyLoss() # nn.MSELoss()\n",
    "optimizer = torch.optim.Adam(model.parameters(), lr=LR) # optim.SGD(model.parameters(), lr = LR)\n",
    "scheduler = torch.optim.lr_scheduler.ExponentialLR(optimizer, 0.5) # lr decay"
   ]
  },
  {
   "cell_type": "code",
   "execution_count": 105,
   "metadata": {},
   "outputs": [],
   "source": [
    "class LSTMModel(nn.Module):\n",
    "    def __init__(self, input_size, hidden_size, num_layers, output_size, bidirectional):\n",
    "        super(LSTMModel, self).__init__()\n",
    "        self.input_size = input_size\n",
    "        self.hidden_size = hidden_size\n",
    "        self.num_layers = num_layers\n",
    "        self.output_size = output_size\n",
    "        self.lstm = nn.LSTM(input_size, hidden_size, num_layers, batch_first=True,\n",
    "                            dropout=0.5, bidirectional=bidirectional)\n",
    "        self.linear = nn.Linear(hidden_size, output_size)\n",
    "    \n",
    "    def forward(self, x):\n",
    "        h0 = Variable(torch.zeros(1, 64, 125))\n",
    "        x, h = self.lstm(x, h0)\n",
    "        x = x[:,-1,:].squeeze()\n",
    "        x = self.linear(x)\n",
    "        return x"
   ]
  },
  {
   "cell_type": "code",
   "execution_count": 106,
   "metadata": {},
   "outputs": [],
   "source": [
    "model = LSTMModel(input_size=INPUT_SIZE, \n",
    "                       hidden_size=HIDDEN_SIZE, \n",
    "                       num_layers=NUM_LAYERS, \n",
    "                       output_size = OUTPUT_SIZE,\n",
    "                       bidirectional=True)\n",
    "crit = nn.CrossEntropyLoss() # nn.MSELoss()\n",
    "optimizer = torch.optim.Adam(model.parameters(), lr=LR) # optim.SGD(model.parameters(), lr = LR)\n",
    "scheduler = torch.optim.lr_scheduler.ExponentialLR(optimizer, 0.5) # lr decay"
   ]
  },
  {
   "cell_type": "code",
   "execution_count": 114,
   "metadata": {},
   "outputs": [],
   "source": [
    "def binary_accuracy(preds, y):\n",
    "    rounded_preds = torch.round(torch.sigmoid(preds))\n",
    "    correct = (rounded_preds == y).float()\n",
    "    acc = correct.sum() / len(correct)\n",
    "    return acc\n",
    "\n",
    "def train(model, train_loader, optimizer, crit):\n",
    "    epoch_loss, epoch_acc = 0., 0.\n",
    "    model.train()\n",
    "    total_len = 0.\n",
    "    # for batch in iterator:\n",
    "    for step, (data, target) in enumerate(train_loader):\n",
    "        print(data.shape)\n",
    "        inputs = data.view(-1, -1, 125)\n",
    "        print(inputs.shape)\n",
    "        preds = model(inputs) # squeeze() # [batch_size] # out\n",
    "        loss = crit(preds, target)\n",
    "        acc = binary_accuracy(preds, target)\n",
    "        \n",
    "        # SGD\n",
    "        optimizer.zero_grad()\n",
    "        loss_backward()\n",
    "        optimizer.step()\n",
    "        \n",
    "        epoch_loss += loss_item() * len(target)\n",
    "        epoch_acc += acc.item() * len(target)\n",
    "        total_len += len(target)\n",
    "        \n",
    "    return epoch_loss / total_len, epoch_acc / total_len\n",
    "\n",
    "def evaluate(model, test_loader, crit):\n",
    "    epoch_loss, epoch_acc = 0., 0.\n",
    "    model.eval()\n",
    "    total_len = 0.\n",
    "    for step, (data, target) in enumerate(test_loader):\n",
    "        preds = model(data) # .squeeze()\n",
    "        loss = crit(preds, target)\n",
    "        acc = binary_accuracy(preds, target)\n",
    "        \n",
    "        epoch_loss += loss_item() * len(target)\n",
    "        epoch_acc += acc.item() * len(target)\n",
    "        total_len += len(target)\n",
    "    model.train()\n",
    "        \n",
    "    return epoch_loss / total_len, epoch_acc / total_len"
   ]
  },
  {
   "cell_type": "code",
   "execution_count": 115,
   "metadata": {},
   "outputs": [
    {
     "name": "stdout",
     "output_type": "stream",
     "text": [
      "torch.Size([64, 128, 32])\n"
     ]
    },
    {
     "ename": "RuntimeError",
     "evalue": "only one dimension can be inferred",
     "output_type": "error",
     "traceback": [
      "\u001b[0;31m---------------------------------------------------------------------------\u001b[0m",
      "\u001b[0;31mRuntimeError\u001b[0m                              Traceback (most recent call last)",
      "\u001b[0;32m<ipython-input-115-5600ca2fad80>\u001b[0m in \u001b[0;36m<module>\u001b[0;34m\u001b[0m\n\u001b[1;32m      5\u001b[0m     \u001b[0mstart_time\u001b[0m \u001b[0;34m=\u001b[0m \u001b[0mtime\u001b[0m\u001b[0;34m.\u001b[0m\u001b[0mtime\u001b[0m\u001b[0;34m(\u001b[0m\u001b[0;34m)\u001b[0m\u001b[0;34m\u001b[0m\u001b[0m\n\u001b[1;32m      6\u001b[0m \u001b[0;34m\u001b[0m\u001b[0m\n\u001b[0;32m----> 7\u001b[0;31m     \u001b[0mtrain_loss\u001b[0m\u001b[0;34m,\u001b[0m \u001b[0mtrain_acc\u001b[0m \u001b[0;34m=\u001b[0m \u001b[0mtrain\u001b[0m\u001b[0;34m(\u001b[0m\u001b[0mmodel\u001b[0m\u001b[0;34m,\u001b[0m \u001b[0mtrain_loader\u001b[0m\u001b[0;34m,\u001b[0m \u001b[0moptimizer\u001b[0m\u001b[0;34m,\u001b[0m \u001b[0mcrit\u001b[0m\u001b[0;34m)\u001b[0m\u001b[0;34m\u001b[0m\u001b[0m\n\u001b[0m\u001b[1;32m      8\u001b[0m     \u001b[0mvalid_loss\u001b[0m\u001b[0;34m,\u001b[0m \u001b[0mvalid_acc\u001b[0m \u001b[0;34m=\u001b[0m \u001b[0mevaluate\u001b[0m\u001b[0;34m(\u001b[0m\u001b[0mmodel\u001b[0m\u001b[0;34m,\u001b[0m \u001b[0mvalid_loader\u001b[0m\u001b[0;34m,\u001b[0m \u001b[0mcrit\u001b[0m\u001b[0;34m)\u001b[0m\u001b[0;34m\u001b[0m\u001b[0m\n\u001b[1;32m      9\u001b[0m \u001b[0;34m\u001b[0m\u001b[0m\n",
      "\u001b[0;32m<ipython-input-114-c43c07bf311f>\u001b[0m in \u001b[0;36mtrain\u001b[0;34m(model, train_loader, optimizer, crit)\u001b[0m\n\u001b[1;32m     12\u001b[0m     \u001b[0;32mfor\u001b[0m \u001b[0mstep\u001b[0m\u001b[0;34m,\u001b[0m \u001b[0;34m(\u001b[0m\u001b[0mdata\u001b[0m\u001b[0;34m,\u001b[0m \u001b[0mtarget\u001b[0m\u001b[0;34m)\u001b[0m \u001b[0;32min\u001b[0m \u001b[0menumerate\u001b[0m\u001b[0;34m(\u001b[0m\u001b[0mtrain_loader\u001b[0m\u001b[0;34m)\u001b[0m\u001b[0;34m:\u001b[0m\u001b[0;34m\u001b[0m\u001b[0m\n\u001b[1;32m     13\u001b[0m         \u001b[0mprint\u001b[0m\u001b[0;34m(\u001b[0m\u001b[0mdata\u001b[0m\u001b[0;34m.\u001b[0m\u001b[0mshape\u001b[0m\u001b[0;34m)\u001b[0m\u001b[0;34m\u001b[0m\u001b[0m\n\u001b[0;32m---> 14\u001b[0;31m         \u001b[0minputs\u001b[0m \u001b[0;34m=\u001b[0m \u001b[0mdata\u001b[0m\u001b[0;34m.\u001b[0m\u001b[0mview\u001b[0m\u001b[0;34m(\u001b[0m\u001b[0;34m-\u001b[0m\u001b[0;36m1\u001b[0m\u001b[0;34m,\u001b[0m \u001b[0;34m-\u001b[0m\u001b[0;36m1\u001b[0m\u001b[0;34m,\u001b[0m \u001b[0;36m125\u001b[0m\u001b[0;34m)\u001b[0m\u001b[0;34m\u001b[0m\u001b[0m\n\u001b[0m\u001b[1;32m     15\u001b[0m         \u001b[0mprint\u001b[0m\u001b[0;34m(\u001b[0m\u001b[0minputs\u001b[0m\u001b[0;34m.\u001b[0m\u001b[0mshape\u001b[0m\u001b[0;34m)\u001b[0m\u001b[0;34m\u001b[0m\u001b[0m\n\u001b[1;32m     16\u001b[0m         \u001b[0mpreds\u001b[0m \u001b[0;34m=\u001b[0m \u001b[0mmodel\u001b[0m\u001b[0;34m(\u001b[0m\u001b[0minputs\u001b[0m\u001b[0;34m)\u001b[0m \u001b[0;31m# squeeze() # [batch_size] # out\u001b[0m\u001b[0;34m\u001b[0m\u001b[0m\n",
      "\u001b[0;31mRuntimeError\u001b[0m: only one dimension can be inferred"
     ]
    }
   ],
   "source": [
    "# training and testing\n",
    "valid_losses = []\n",
    "\n",
    "for epoch in range(N_EPOCHS):\n",
    "    start_time = time.time()\n",
    "    \n",
    "    train_loss, train_acc = train(model, train_loader, optimizer, crit)\n",
    "    valid_loss, valid_acc = evaluate(model, valid_loader, crit)\n",
    "    \n",
    "    end_time = time.time()\n",
    "    epoch_mins, epoch_secs = epoch_time(start_time, end_time)\n",
    "    \n",
    "    if i % 1 == 0:\n",
    "        if len(val_losses) == 0 or valid_loss < min(valid_losses):\n",
    "            torch.save(model.state_dict(), \"/Users/zouhao/Desktop/EEGResearch/lstm_autoencoder_classifier_3.pth\")\n",
    "            print(\"best model saved to lstm_autoencoder_classifier_3.pth\")\n",
    "        else:\n",
    "            # lr decay\n",
    "            scheduler.step()\n",
    "            optimizer = torch.optim.Adam(model.parameters(), lr=LR)\n",
    "        val_losses.append(val_loss)\n",
    "            \n",
    "    print(f'Epoch: {epoch+1:02} | Epoch Time: {epoch_mins}m {epoch_secs}s')\n",
    "    print(\"Epoch\", epoch, \"Train Loss\", train_loss, \"Train Acc\", train_acc)\n",
    "    print(\"Epoch\", epoch, \"Valid_loss\", valid_loss, \"Valid_acc\", valid_acc)"
   ]
  },
  {
   "cell_type": "code",
   "execution_count": null,
   "metadata": {},
   "outputs": [],
   "source": [
    "plt.figure()\n",
    "plt.plot(train_loss)\n",
    "plt.title('Train Loss')\n",
    "plt.xlabel('Epochs')\n",
    "plt.ylabel('Loss')\n",
    "plt.savefig('deep_ae_fashionmnist_loss.png')"
   ]
  },
  {
   "cell_type": "code",
   "execution_count": null,
   "metadata": {},
   "outputs": [],
   "source": [
    "# test the network\n",
    "def predict(model, dataset):\n",
    "  predictions, losses = [], []\n",
    "  criterion = nn.L1Loss(reduction='sum').to(device)\n",
    "  with torch.no_grad():\n",
    "    model = model.eval()\n",
    "    for seq_true in dataset:\n",
    "      seq_true = seq_true.to(device)\n",
    "      seq_pred = model(seq_true)\n",
    "      loss = criterion(seq_pred, seq_true)\n",
    "      predictions.append(seq_pred.cpu().numpy().flatten())\n",
    "      losses.append(loss.item())\n",
    "  return predictions, losses"
   ]
  },
  {
   "cell_type": "code",
   "execution_count": null,
   "metadata": {},
   "outputs": [],
   "source": [
    "_, losses = predict(model, train_dataset)\n",
    "sns.distplot(losses, bins=50, kde=True)"
   ]
  },
  {
   "cell_type": "code",
   "execution_count": null,
   "metadata": {},
   "outputs": [],
   "source": [
    "predictions, pred_losses = predict(model, test_normal_dataset)\n",
    "sns.distplot(pred_losses, bins=50, kde=True)"
   ]
  }
 ],
 "metadata": {
  "kernelspec": {
   "display_name": "Python 3",
   "language": "python",
   "name": "python3"
  },
  "language_info": {
   "codemirror_mode": {
    "name": "ipython",
    "version": 3
   },
   "file_extension": ".py",
   "mimetype": "text/x-python",
   "name": "python",
   "nbconvert_exporter": "python",
   "pygments_lexer": "ipython3",
   "version": "3.7.0"
  }
 },
 "nbformat": 4,
 "nbformat_minor": 4
}
